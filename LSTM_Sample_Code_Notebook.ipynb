{
  "nbformat": 4,
  "nbformat_minor": 0,
  "metadata": {
    "colab": {
      "name": "LSTM_Sample_Code_Notebook.ipynb",
      "provenance": [],
      "collapsed_sections": []
    },
    "kernelspec": {
      "name": "python3",
      "display_name": "Python 3"
    },
    "language_info": {
      "name": "python"
    }
  },
  "cells": [
    {
      "cell_type": "markdown",
      "source": [
        "# Train Autoencoder Model"
      ],
      "metadata": {
        "id": "ChaJEuGbZScv"
      }
    },
    {
      "cell_type": "markdown",
      "source": [
        "## Step 1)"
      ],
      "metadata": {
        "id": "WmBcivvXZYJZ"
      }
    },
    {
      "cell_type": "markdown",
      "source": [
        "Upload the following python scripts to current colab instance:\n",
        "\n",
        "\n",
        "1.   train_autoencoder.py\n",
        "\n",
        "For example: \n",
        "\n",
        "![image.png](data:image/png;base64,iVBORw0KGgoAAAANSUhEUgAAAioAAADYCAYAAADF9ciIAAAgAElEQVR4Xu3dC1hVZb4G8Peoo7ukM2UxOHgpBzN9LESnGkJP2hhoF4vRctK8ZAw4aiQhikOOGWOeJMELQqPGlJ7SRsXBLBUZu3DE0tNJyPExGcm85IEQbBIaNHXO+i/2wu1ms/faV9bevOt5eDL3unzf71vb/fJd1v63yMjIf4EbBShAAQpQgAIUMKDAvzGoGLBVWCQKUIACFKAABVQBBhXeCBSgAAUoQAEKGFaAQcWwTcOCUYACFKAABSjAoMJ7gAIUoAAFKEABwwowqBi2aVgwClCAAhSgAAUYVHgPUIACFKAABShgWAEGFcM2DQtGAQpQgAIUoACDCu8BClCAAhSgAAUMK8CgYtimYcEoQAEKUIACFGBQ4T1AAQpQgAIUoIBhBRhUDNs0LBgFKEABClCAAgwqvAcoQAEKUIACFDCsAIOKYZuGBaMABShAAQpQgEGF9wAFKEABClDATwXCwsIwePBgt0pfUlKCiooKt87hzYMZVLypy3NTgAIUoAAFvCiwdetWBAUFuXWFuro6PProo7rPIeFo+vTpeOGFFyDH2tukbC+++CJyc3NdDkMMKrqbhjtSgAIUoAAFjCMQERGBzMxM7Nq1C4WFhS0WTAsW9ko+a9YslJaW6qpcVlYWBgwYoAaP5OTkFsOKhBTZV65fVlam7uvKxqDiihqPoQAFKEABCrSygBZU1q1bh7Vr17ZYGm0/TwUVywDSUljRs49ePgYVvVLcjwIUoAAFKGAggdYKKkJgL4h4MqTItRhUDHTTsSgUoAAFKEABvQJ6g0rXrl0xYsQIm6eVIRz5cWboRzuRrUAir2nDPY6GhvTWk0FFrxT3owAFKEABChhIQG9QsVfkyZMnY9KkSS4FFVs9K/J3MifFUyHF6R6V1NRUhIeHqxWShCZ/1rNVVVXZneij5xyW+9w6JBb9b7J1VAOOl+zEgXOD8Otp9yP09F/x6p8/Q0PwQIwcfDNMZw6hYM/fnb0c96cABShAAQoYTsAIQcU6rMj/ezKkOB1UtGVQElSkq0hSmJ7Nndm+ts4/Ki0PsWG2XjmLT5anYM3NachTd6hAQdwibAuPx5KZkbihogBxi7bpKTL3oQAFKEABChhagEHFRvNId07v3r092jviyl3QGFS+QtFLb2H/VSe4iH+cPoEa9EXs048oPSrv4E8FX6CBQcUVZh5DAQpQgAIGFjBCULGepyJcrTr0Y5T2agwq5t4Sm4UKQtef/QTXfv8NvqxUHkbTQlAJ6nonIiO7IwgXcOZgMfZUWD+4RjnPnZGI7K48TOfCGRze9ymO1DQYhYHloAAFKECBNizQ2kHFkJNppVDyU1lZ2aq3huOgMgppebEI04Z6mgWVUNw7/Vk8+fNgdGiqyWWcO7QRGVlFOC1/ZxqEuAVTERV8ZQ9c/ifK31mExdvUPbhRgAIUoAAFWk2gNYOKYZcnr169Wu3SSUhIUIeAYmJidDWQTKyRx+d6amsMKtUo2/YJTlietGmyrP2g0mfCS5h9309QX74Da1/bjsO4Gf8xLg5jB96Abz54Bc+/WQ7TqDRkK/Nc/vFpHv7z9b043y0aT8c/jJDTO7FmxQ585anK8DwUoAAFKEABFwRaK6joeU6Knn30Vtmp5cnWQaWlddnWFz969KgXgoqNKjZNlrUXVKowfdlU/Bz/i1VJuRZzXKLwTHYcBn73ARY+/yaOPZCKNY/1wT/K3sarfypCs1EhvcLcjwIUoAAFKOAFAS2oyOPz7T1C396l5XNcfpx5joqhH6FvrKEfG5NptTkpsBNUstpjXs4o9Gqp5S6XY3P8YuxQhn4m/O5pDO1+DdrhIs5/ewbHPv8rNv75AxznNBUvvOV4SgpQgAIUcFagtb6UcMaMGZg/f76uLyVMT09HTk5O2/pSQrfmqGhB5asivPTW1WuGGm+Q7/HNl5VonFZrwo0DhyD6zjvQt08fdOvSEajZi+w5efjc2buJ+1OAAhSgAAU8LGDvqbN6LyW9Ma0999ReWZ0a+pH5KfIj39TYmptbQWXRccQvmYnIzsqqofnKM1aqtZooE2x/NRC1Re/hb5JSgsIQ/fAdqCkowGdqD4oJD6Qux2N9zjU+q4VJpTVvAV6bAhSgAAXaiIBTQcVYD3yztzzZ/mTaUGWi7PPKRNmO58qxZ1cJDn0XjLujh2Ng9044+8mrmL/mM4RPX4apP78ODaf/F38t/AgnTZF48FdRuLnjcWxPS0d+U8BpI3cKq0kBClCAAhRoBQGngoo8Ql+eSJucnKw+Ql/+rGeTLiVXJ/rYOr97PSryZFoT+sYmIv6BvrheW318+QKqDmzAytxi8/Jk5aFxifF4oO/1V5YwX/wWBzdnYlkRlyfraXfuQwEKUIACFHBXwKmg4u7FDHe86Ub0DP2xGkS+/+ZLyLPhrDfTjT0R+mN1D4u5K4arCQtEAQpQgAIUCEiBth1UArJJWSkKUIACFKBA4AgwqAROW7ImFKAABShAgYATYFAJuCZlhShAAQpQgAKBI8CgEjhtyZpQgAIUoAAFAk6AQSXgmpQVogAFKEABCgSOAINK4LQla0IBClCAAhQIOAEGlYBrUlaIAhSgAAUoEDgCDCqB05asCQUoQAEKUCDgBBhUAq5JWSEKUIACFKBA4AgwqAROW7ImFKAABShAgYATYFAJuCZlhShAAQpQgAKBI8CgEjhtyZpQgAIUoAAFAk6AQSXgmpQVogAFKEABCgSOAINK4LQla0IBClCAAhQIOAEGlYBrUlaIAhSgAAUoEDgCDCqB05asCQUoQAEKUCDgBBhUAq5JWSEKUIACFKBA4AgwqAROW7ImFKAABShAgYATYFAJuCZlhShAAQpQgAKBI8CgEjhtyZpQgAIUoAAFAk6gzQWViIgIzJ49G127drXbmIWFhcjIyAi4BmeFKEABClCAAv4k0OaCyvr16xESEqKrjRhWdDEFxE5hYWGYPn06XnjhBdTV1QVEnVgJClCAAoEg0OaCyu7du9V2Gz58eIvtp+0jO7RWWHHU89Na5XJ00/trubOysjBgwABUVFQgOTn5qrAiIUZ+tF64yspKdT/54UYBClCAAt4VYFCx4WsZVForrOjp+TFiWPHXcgcFBUHCigQSy7AivSxjxoyx+S6Unhdpgy1btkDCCzcKUIACFPC8AIOKjqDSGmHFOiy52vTyAfrKK6+gtLTU1VM4dZy/llsq2VJYSU1NRUxMjF2HtWvXYt26dU5ZcWcKUIACFHAswKCiM6j4Oqx46gNfyi1h5cknn3R8N3hgD2fKLT0X2nwQGVaxnjvky3JbBxX5f8ueFRnS0sKe/Hn06NEYPHjwVWLyOue4eOAm4ikoQAEKWAgwqDgRVGRXe3NbPHln6ZlLo+d6njqPnmvJPs4ElYSEhKZ5HhJU3nrrrWaX8ZW3ZW+KZSFszVnRXp88eTImTZp0VZnt7a/XkPtRgAIUoMAVAQYVnXdDa33gu/tB3VrldsQqwyQSThYvXty0q60hFnfr76gc2uv25qJYhg8JJ//617+ahnm0SbiW18nPz0dubq7eS3M/ClCAAhSwI8CgovP2aK0PfHc/qFur3PZYq6qqMH78eHWSqoQAbUhFejWkV0X+q23u1l9P88pQTmZmZrNd5Tk6UkbrCbYSqM6dO6eGkZaOnTVrls/mBempI/ehAAUo4K8CDCoWLTdixAh1iaqtB7211ge+Lz6oPXnz6hn6sfwQl54My94H6+EUX9TfVq+ImMi1JTRt3bpVJbJeDaSV21adJXxJPblRgAIUoIB7AgwqZj8JKXPmzFH/T4YlZBWH5eYPQUU+VLWw1blzZ+zdu1ddPpuenq5WRZ4P4u3NUVApKSnB/Pnzm4ohPRbaMl/tLy2XOLd2UJEySVDRenlszUGxVeeysjKfeHu7PXl+ClCAAq0twKCitIBlSNEaRHpV5ENe24weVGR4QgKJzPuQD0ltFY2EAPmR4RYjBBVZfWT5zBEJJTLnY+rUqU0rgGQ1jRaufBFUHA3fWM9fsV4NZGvYiEM/rf1PG69PAQoEioBLQUU+BOUfb8vlmfKbsvRCGP1pndaBw1ZIsRVWjBxUtLkdEkakt0KCgLSRtI+sSpHXffUbvr0eFeueKsthHrlvZN6Htkl4kM0XQUWuY2syrWXvj7w+ZMiQpiXUlmHFehIwJ9MGyj+PrAcFKGAEAaeDivzmLmP68uEn/5DLP9jyd/KhKL+5y3MkfPVwMVcArQOH9iEjPSja0I/25127djWtSjFyUJHhE/kgteytsJ7rYYSgYlk+uX8kRLW0Okbr5fBVUGlpebJ1z5qjh8JxebIr70oeQwEKUKBlAaeCivwjvWrVKjWkyDCCZe+JFmDkUvKBZNQvdrMVOLSHeVm+ZvmAL6mTkYOKDJNobaI1tfSoWH5DtPRW+KK3S2+PigQr6WFp6T6ROkn49VVQETcxlOvKhGrLTYK3lFXCnmyWvXDWS5elN8Wo9z7/IaQABSjgjwJOBRXtH2jr3zK1imtzC1p63QhA9gKHq695o17OBCNbQcUbZdJzTkeTaSXEykRfGUaxnrCsnd9yzogvg4p2fVsPcrNXd/ai6LkzuA8FKEAB1wScCiraP+CPPvpoi781ygeVkcfoXQ0jzgQH15ri6qMsV5rYO59M2pTeLOuhH8ueFXk2iQyxSLt4e3NUbm0ibX19/VVzUizL1bt3b7V3Q3veirfLbOv80hsl93tUVNRVz3Wx3Fd6TqQe8uh/hpXWaCVekwIUaAsCXgkqlnM7jIboauBw9ThX6y+9CjJnxvr7b6zPp32/jIQRy8m0sp982Epvi5zDV8NxesvtyEXqIj1zRpjvJEFQwpM2lHb06FF1wrKEk5bmrDiqH1+nAAUoQAF9Ak4FFb1DP7767V1fFV3rqbB17tb8Dd9RXS0nOWtzUeTv5Ld+6/lEjs7F150TsAwrvpq07FwJuTcFKEAB/xVwKqhoy2ClutYffvLbpjxPQvbx1W/vrrC7+hu/kX7Db6ne2gPftBVY8qEpz4Lh5E5X7hTnjtEm4ubk5Phk0rJzpePeFKAABfxXwKmgItWUD/oXX3xRrbEsT7Z8Zof8Yy1d9dKj4osVJv7LzpJTgAIUoAAFKKBHwOmgIieVIQWZaGj5wDf57V1+m5RnrNjqcdFTGO5DAQpQgAIUoAAFLAVcCiqWJ7B+3ojl81Q4N4I3GwUoQAEKUIAC7gi4HVRsXZxhxZ0m4bEUoAAFKEABCmgCXgkqcnJ/eVItbwUKUIACFKAABYwr4LWgooUVef6E5bcQG5eCJaMABShAAQpQwGgCXg0qRqssy0MBClCAAhSggH8JMKj4V3uxtBSgAAUoQIE2JcCg0qaam5WlAAUoQAEK+JcAg4p/tRdLSwEKUIACFGhTAn4XVPr169emGoiVpQAFKEABCvi7wOHDh12ugt8FFZdrygMpQAEKUIACFPA7AQYVv2syFpgCFKAABSjQdgQYVNpOW7OmFKAABShAAb8TYFDxuyZjgSlAAQpQgAJtR4BBpe20NWtKAQpQgAIU8DsBBhW/azIWmAIUoAAFKNB2BBhU2k5bs6YUoAAFKEABvxNgUPG7JmOBKUABClCAAm1HgEGl7bQ1a0oBClCAAhTwOwEGFb9rMhaYAhSgAAUo0HYEGFTaTluzphSgAAUoQAG/E2BQ8bsmY4EpQAEKUIACbUeAQcXrbT0KaXlDUb08BWs+t3ExU18MG9kVlTs/xBcNXi8ML0ABClCAAhTwKwEGFaW5RowYgZiYmGYNV1FRgdzcXDcb1EFQ6T8ZLyfdjco3Z2DZR25eiodTgAIUoAAFAkygzQeVsLAwrF69usVmLSwsREZGhhvN7iCouHFmHkoBClCAAhQIdAG/DSrt27fHpUuX3G6fiIgIZGZmunye0tJSzJo1y87xjUGlrvgUekT2R5eOwIXaQ9iydBmKTiuHhcdjyczbcMQ8NDQqLQ9Dz76HgyFDEdUjCO0u1OLQlqVYpu7MjQIUoAAFKNC2BPw2qCQlJWHdunWora11q8XcDSpycQkqElhsbxJUYtGr5gA2rnoDH9dHYHzyZNxVtxNp6fmothFUYnvV4MDGVXjj43pETEzBlPDTWD8tC7vdqikPpgAFKEABCvifgN8GFekF6dKlixoS3Akrvgkq9+FMTjJWf2a+QaKeQXbcT7Fv4fN487rmPSox3+UhceXexp3VIHMrDmfNQd4h/7vBWGIKUIACFKCAOwJ+HVQkZJw4ccKtsOKboGK16scUi3k5Q1Alwz2wMfRTvRwp2hIhqx4Xdxqbx1KAAhSgAAX8TcDvg4qAV1ZWqmFF/uvsxqDirBj3pwAFKEABCvhOgEHFzcm00lSO56g4N/QzlD0qvnsH8EoUoAAFKGBoAb8PKu70pkjL+KZHxbnJtAwqhn7PsHAUoAAFKOBDAb8OKv4zmdZqeXLVAWxYmYvilpYns0fFh28BXooCFKAABYws4LdBxX+WJxu5+Vk2ClCAAhSggLEF/DaoGOWBb9K89ueoGPsGYOkoQAEKUIACRhbw26DiKVRHj9DXc52EhATI9wJxowAFKEABClDAswJtPqgIp3wpofy4suXn56OkpMSVQ3kMBShAAQpQgAIOBJwKKrJCZvbs2aiqqkJycrJD3NTUVERFRanfQCxf7seNAhSgAAUoQAEKOCPgVFDZunUrysrKMH/+fN3X0MLKo48+qvsY7kgBClCAAhSgAAVEwKmgsnv3bvWLANeuXdukFxQUBJnnUVdX1zRPY/Dgweqf5RknkydPxqRJkzB8+HCKU4ACFKAABShAAacE3AoqElCkxyQkJAQSWKTXJCsrSw0uu3btwuLFixlUnGoO7kwBClCAAhSggKWAW0FFO9GYMWMwffp0tRdF5qKUlpaq81ikl4U9KrzhKEABClCAAhRwVUB3UJEeE5mjYj30IxfWHkMv81esJ9lqQUV6WyS4cKMABShAAQpQgAJ6BXQFla5du6rzTGTuiQQR62eGaCFGlulaT7SVYSAZDpIQI6t/XPmGY72V4X4UoAAFKEABCgSWgO6gIkM7AwYMwNSpU5uFDXlNhn+kx8R6dQ+DSmDdMKwNBShAAQpQwJcCuoKKFMh66Ef+X34kvMjD0o4ePaqGFXlK64wZM9SeFcs5Kk8++SR7U3zZsrwWBShAAQpQIAAEdAcVqavl8uT09HR1KEjCiIQQCSzyd7LJEI88sVU2TqYdhbS8oahenoI1nwfAHcMqUIACFKAABXwo4HJQkSGdIUOGqKt8tHkn2vCP5VNo/SGoSI9QTExMM3aZiyOhy73N20ElHPFLZuK2I8uRwiTkXlPxaApQgAIUMJyAy0FFb02MHlQcfSmhhK6MjAy91bWxH4OKG3g8lAIUoAAF2riAU0FFlifv3btXfZCb3s1bj9Bv3749Ll26pLcYLe6nLa129UTyzJhZs2bZObwxqNQVn0KPyP7o0hG4UHsIW5YuQ9HpxsNMNz+ApxNGYkDXIHS4WIfKsneRk1sE88stvx4ejyUzI3GDdvWzn2B5yhpwhMnV1uRxFKAABShgNAGngooMkcgKH1mGrKeXQZYly9JmeeS+p7+UMCkpSX2mS21trVum7gYVubgEFQkstjcJKrHoVXMAG1e9gY/rIzA+eTLuqtuJtPR8VJui8MzLU9D7xFZkr34XVSGj8WzyQ/jJ4TzMXbkXDY5eB4d+3LoBeDAFKEABChhawKmgYqSaZGZmokuXLmpIcCes+Cao3IczOclY/ZlZMOoZZMf9FPsWPo/Nt6ch+8EL2PjcEhQ1mHtYolOwdGxHbE9chKJo+69va2BQMdJ9ybJQgAIUoIBnBfw6qEjIOHHihFthxTdBxWrVjykW83KGoEpZCbTvF0sws9s+zF2wCdVa2/aagJfmReArHa+v+ZxBxbNvCZ6NAhSgAAWMJOD3QUUwZdWR9Ky48tRbQwaV/nHISO6Hv7cUVCxeZ1Ax0tuJZaEABShAAU8LMKgovTIyjOTO5niOCod+3PHlsRSgAAUo0HYF/D6ouNObIs3umx4Vx5Npex7diFVvFCmTaR/GbxN/he5Hr55M2+LrMCF2Xg5G/LAZ817bj/M1NeBXP7bdNzRrTgEKUCDQBPw6qPjPZFqr5clVB7BhZS6KLZYn/3baKPQL7mRenrwTq/+0A8e1ybXK8mV7rwcPfxZzxw7A9e3KsTl+MXYE2l3K+lCAAhSgQJsV8Nug4j/Lk9vsvcWKU4ACFKAABdwW8NugYpQHvkkL2J+j4nYb8QQUoAAFKECBNivgt0HFUy3m6BH6eq4j3xgt3wvEjQIUoAAFKEABzwq0+aAinPLEXflxZZNviZYn9XKjAAUoQAEKUMDzAgwqnjflGSlAAQpQgAIU8JAAg4qHIHkaClCAAhSgAAU8L8Cg4nlTnpECFKAABShAAQ8JMKh4CJKnoQAFKEABClDA8wIMKp435RkpQAEKUIACFPCQAIOKhyB5GgpQgAIUoAAFPC/AoOJ5U56RAhSgAAUoQAEPCTCoeAiSp6EABShAAQpQwPMCDCqeN+UZKUABClCAAhTwkECzoFJwz+dNp479ONxDl+FpKEABClCAAhSggPMCDCqKmTw+PyYmppmefH9Pbm6u86o+PGJUWh5iUYC4Rds8cNVwxC+ZiduOLEfKmiuB1QMn5ikoQAEKUIACLgm0+aDi6EsJCwsLkZGR4RKuLw5iUPGFMq9BAQpQgAKtJdDmg0pERAQyMzNd9i8tLcWsWbPsHx96L+ITxuDOHkHocPkCassLkZddgC8a5LAg3D3uWTx+by906QhcqD2GDzdk4c+fqS9CgsjQs+/hYMhQRCnHt7tQi0NblmJZ0c+RlheLsKYrV6AgbhGkXyU0ejpmPDwAXYM64GLdSex9awnW7q+TsynHDMXZ9w4iZGgUegS1U653CFuWLkPRTfFYMjMSN2jnO/sJlqesAftVXL41eCAFKEABCnhAgEHFzaAibSBBRQKL7S0ccRmJGPTtDmSt2IKvb7wPv5kxHr2/WoOk3P0IfXwBXhzWHnveWqaEE2DQpFRMuet77HphATadbgwqsb1qcGDjKrzxcT0iJqZgSvhprJ+Whd3mIGM59GMalICF03qj/PXFWKecr9+YRCQMuYDt85UQUy1BJRa9ag5g46o38HF9BCamTEH46fWYliVn49CPB95TPAUFKEABCnhQgEHF20El6hlkx92E4rlK8KhubDnT4Il4NrwGm149hfuVOSFhBxdj7tpyc7P2weSXU3FHReM8EQkqMd/lIXHl3sbXw6Xn41YczpqDvEPmINM0R8Wk7J+t7P/6lf0RhWeyp6Dz9ngs3iFBJQbf5SXiyumWYOath5E1Jw+HGFQ8+NbiqShAAQpQwBMCfhVU2rdvj8TERPTo0cNm3U+ePIns7GxcunRJt427Qz8Oe1RGpSHvvjPISV4NpYPDamseHGSH4cmvYrxpuzpBVh36qbaY3KoGldtwZHkKZL7r1XNUGntEIpvGb65crqIgDou2NQ79VJuPbcw9SlC57Yh5mIc9KrpvHO5IAQpQgAI+EfCroCIiXbp0UeeU9OzZ8yqgEydOqEMwtbW1TsEZMag8kLoGj7V/x+WgckvpQjz/5jEbDgwqTt0c3JkCFKAABVpdwO+CihZWpOeka9euKqCrIUWO9XpQsTX003cYRt7yD5TsvIRYHUM/+ntUgjFGmYsyEjuRlp4P80gTTCYTGhpkci6DSqu/41gAClCAAhRwSsAvg4rUUEKKtlpHhoOc7UnRlLweVJR5H44n017G7tdyUHBYmUw7PhkT7/kB71tMprUXVAYlZGHGz/6GzFe2oqq+BvWDk5E5PgxVRa8i6+2j6DQwFjPiBuCr7N9h3RFHQcWE2Hk5GPHDZsx7bT/O19RA1gpxowAFKEABCrSWgN8GFS2syH8rKytd9vN+UFGKZrk8+WIdKst2YvWfduC4tjx5cgrGR3bDdeblycWbVmCDupzYvDzZzhwVhI/Diwm/RPdrzmKvOsHWhJsf+C2mjeqH4E4dcFlZzlxemIfsgi/Q4LBHBQge/izmjh2A69uVY3P8YuxwWZYHUoACFKAABdwX8Oug4n71fTD044lC8hwUoAAFKECBNirAoOLt5clt9MZitSlAAQpQgAKeEHAqqPyk0wXIj/V2rN6E+ksdPFEen5/D0SP09RQoISEB8r1A3ChAAQpQgAIU8KyA7qAiAWX1oC9sXv1Y/TWYd6iX34YV+VJC+XFly8/PR0lJiSuH8hgKUIACFKAABRwI6A4qT3SvwhM9qlo83TcNP8I355XZoDa2Y99fg7yvQtkYFKAABShAAQpQwCkBp4NK4zBPe90X6dz+Enp1bsB/fnEz9p39se7juCMFKEABClCAAhRwOqjMO/Qz/O27IN1yt/97HRb2/xJvnwzB26dCdB/HHSlAAQpQgAIUoACDCu8BClCAAhSgAAUMK8CgYtimYcEoQAEKUIACFGBQ4T1AAQpQgAIUoIBhBRhUDNs0LBgFKEABClCAAgwqvAcoQAEKUIACFDCsAIOKYZuGBaMABShAAQpQwOmgIg9uk2ep6N3kGSpxt5zm8mS9YH613yik5cUCBXFYtM2DBR+Vhryh1Viesgafe/C0PBUFKEABCvifgO6gYu8R+nqqnfBZ3xafXKvneH/aRx7HHxMT06zI8n1Aubm5/lQVB2U1QFAJj8eSmbfhyPIUrGGqCaB7i1WhAAUo0CigO6jIzi19KaEjTHm0fkuP13d0rL+97uhLDgsLC5GRkeFv1WqhvAwqAdKQrAYFKEABwwo4FVQMWwsPFKx9+/a4dOmS22eKiIhAZmamy+cpLS3FrFmz7B5vGjQBcycNRrfrlO9WunAOX3+yHkvW7kedHGXqi9jEpxDTOxidOlzE+erD+MuKZSg6rbym9j6EoPyDDuj/Hz0QpLxed/K/sfb1Ktz7zGj07yLnq8WhLUuxTD1AgtI9zPsAABACSURBVMhQ1BWfQo/I/lBfrjqADStzUSwvq69bDv2YMOjXyRg3rFfjvrWH8M7KP2LH8Qb7HqHRSHqu8fqX607i04p2iOx5smnox9Q3FolPxaB3cCd0uHge1Yf/ghXLinBT/BLMjLyh6dxnP1mOFOlWsWfgcsvwQApQgAIUaA0BBhWzelJSEtatW4fa2lq32sHdoCIXl6AigcX2NhRJORMQWvY6Fq/7DBg0CalTBuKbjc9hSVEDhiblYEJoGV5fvA5760MQmzwHD3V4H2np+ahWg8rduHxgI/I2fIwzPR9H8vQo3HSxBge3rMEbH9cjYnwyJg+sxNvTsrDbHES6HS/C66vfxRed78FTU8diQN3OxvNZBZXQ2Hn4ffRlFGWtwJaqEEQ/PQ1P9DziYK5JH0x4aTbuOb8br+W8ixM33YNxcWMxsN1+83GW9d2L+pBYJM95CB3eT0N6frU5fF099GPXwK3W5cEUoAAFKOBrAQYVs7j0gnTp0kUNCe6EFe8HFenFiEHd2tlYUSw9FcEYOHIwQqpKsPPAOdzYMxSd60/jRI25F0Mmpj5yCZvjF2OHuUdlz4yFKFBfNiF2Xo4SN7ZhxsICqH911ZwPudZ9OJOTjNVKJlKPiE7B0ieC8P7cBdhUbdmjEo74JTPRbd9cLNikBAjZgh/HgpfvwsmsOcg71MKtrV4vDAcXz8XacvM1lMCTM6SqMaiYbkTP0M6oP30CV6qUh0cubUb84h02gorJvoGv32G8HgUoQAEKuCXAoGIRVCRknDhxwq2w4v2gEozhz87F2DuuxXdfl6O87H/wftEeVKjjPsoWdDtGT5uA+9WhH+3eqFAW5izCNjUUBOMj+bP5pVFpeYhFAeK0ZTvNgspQVFtOVDXFYl7OEFSpf2cZVBr/HNbsdjyLT+xNdJUg9WAD1qs9OE2FumrVT9DtozFtwv2NQz9NVTKX2dZkWnsGbr1deDAFKEABCvhagEHFKqjI/1ZWVqphRf7r7Ob9oGLOI2FDcO+QcNx9+x3odu0ZvL/q99jweTBGpaXjkesPYG3WeuypVNKLBAF1GomHgoraS/ILfG0zqDyIhvXTkNWUOHToOQoqwUoASn8E1x9Yi6z1e9BYJYtw1SyoODDQUSTuQgEKUIACxhFgUPG3oHLrEMT2Bw4V7MHf1bL3weSXU3FHhUwkhTr8EvzRleeamGQYZdRlzwWVqGeQHXcTipsN/dyN6cumok/5KiTl7jermmAyNaDB3lxaR0M/zXqBzMNVl1vqUWkcgmrRwDjvPZaEAhSgAAV0CDCoWAUVd3pT5FRe71HpMwEvzb4H53e/iqy3/waEPY6klBh0Kl6E328Axv0hDfde+hB5f9yNU92HIf6p4bjlmmNuBJVYyGTa13IKcBiDMCl1CgZ++w7mK0NF1pNp+0x4CbOH/ghl63Pw2gc16Bb9FKY+3AlFCzJRdLalu9F6Mu0wTJ72KPpfNE+m7TUOf0i7F5c+zMMfd59C92HxeGr4LbjmmDmoqENRI/DD5nl4bf951NQE2zfQ8abgLhSgAAUoYBwBBhWLoOIfk2mB0HvjkTB6kLo8ud3FOlSWvYuc3CKoK4atl/qWfo/wIdc29oD81JU5Kvfh4r7/Q/DAPuqS43+e2o+Nq9a0sDw5CHdPTsH4yG64rmM7XJSlxvmrsaZxLXPLm4PlyaHRSXhutCyPvqwsp/4Upd+HY8i1xZi7YJMSlsxzdgZcj3bl5gm29gzM83yN8xZkSShAAQpQwJ4Ag4pZx3+WJ/vyhm58jspVk2ldubw6fBOJK0880U7iYKKtK9fiMRSgAAUoEFACDCrm5jTKA9+kOPafo+LL+89DQcWXRea1KEABClAgoAQYVDzcnI4eoa/ncgkJCZDvBWr9jUGl9duAJaAABSjQtgUYVLzQ/vKlhPLjypafn4+SkhJXDuUxFKAABShAgYATYFAJuCZlhShAAQpQgAKBI9AsqARO1VgTClCAAhSgAAX8XYBBxd9bkOWnAAUoQAEKBLAAg0oANy6rRgEKUIACFPB3AQYVf29Blp8CFKAABSgQwAIMKgHcuKwaBShAAQpQwN8FGFT8vQVZfgpQgAIUoEAACzCoBHDjsmoUoAAFKEABfxdgUPFiC8pTaoOCglq8QllZmRevzlNTgAIUoAAF/F+AQcVLbShPpp0zZ47dsxcWFiIjI8NLJbBzWlNfDBvZFZU7P8QXDb6/vP9fkV8t4P9tyBpQgAL+IsCg4qWWSk9Px+DBg22eXXpSqqqqEBMTA1fCyqi0PMSiAHGLtrlW+v6T8XLS3ah8cwaWfeTaKdw+Sv1G5dtwZHkK1nzu9tl8fAIGFR+D83IUoEAbFmBQ8VLjZ2VlYcCAAS0GleTkZKSmproUVtwOKl6qs1OnZVBxios7U4ACFGirAgwqXmp5PUFFLu1sWEnLy0NYU5krUBC3CMfjl2BmSDn2XjsQkSEn8Y7yd0V9Y5H4VAx6B3dCh4vnUX34L1ixrAin5dirQkJj78DZ9w4iZGgUegS1w4XaQ9iydBmK1J1b3kwOrxGMj5SyaP0+WsBaXj0UMyNvaDrx2U+WI0XpVjHd/ACeThiJAV2DlDLXobLsXeTkmssse4dGY/qMh5teP7n3LSxZux91ykty7qFn38PBkKGI6hGEdhdqcWjLUizTKhF6L+ITxuBO5bUOly+gtrwQedkF5qGvINw97lk8fm8vdOkIpf7H8OGGLPz5M21cLBTRSc9hdP8u6Hi5Dic/rUC7yJ442dQbZMKgXydj3DDt+EN4Z+UfseN4g0LdvG0s+8HUctcV41SPSPRXL16FAxtWIre4VqlTNh7psBNp6fmolvoHP44FL/8SdW8/hyVFHLPz0luXp6UABQwmwKDipQbRG1Qsw4p8c3Jubq7DEln3qKgfhpHX4HjxBuT/91Ec//I2/CZnAkLLXsfidXtRHxKL5DkPocP7aUjPVz7ymgWVWPSqOYCNq97Ax/URmJgyBeGn12Na1m47ZRmKJIfXsB1U1CEr6x4VUxSeeXkKep/YiuzV76IqZDSeTX4IPzmch7kr96LBNAgJC6ehd7nU6TOg3xgkJgzBhe3zsWhbtRpUYnvV4MDGVXjj43pETEzBlPDTWD8tC7sRjriMRAz6dgeyVmzB1zfeh9/MGI/eX61BUu5+hD6+AC8Oa489by1TwgkwaFIqptz1PXa9sACblLDWZ8JLmH3Peex+LQfvnrgJ94yLw9iB7bDfHFRCY+fh99GXUZS1AluqQhD99DQ80fMIlqesAZq1TaUarLRNLXe34yh6fTXe/aIz7nlqKsYOqMPOtHS8F5mG7EeAdxKVsKfkEtMo5f8fvICNzy0Bc4rDtwl3oAAFAkSAQcVLDWkvqFRWVqpzUyy3MWPGoKKiAjIk5GizGVS67cPcBZsaf/M23YieoZ1Rf/oEasy/eMsxj1zajPjFO2wElRh8l5cIJQ+omxp8bj2MrDl5ONRSYXRdQ39QsfUhbIpOwdKxHbFd+aAuilY+pGO+w+uJK2EuJqKeycaUztvVOkn9Yr7LQ+KVSihzYG7F4aw5yPvxM8iOuwnFc5XgoQIpRIMn4tnwGmx69RTuXzITYQcXY+7acnNt+2Dyy6m4o0J6eiRrWL1uisW8nCGoUoNKuPp6t31zsUA7udrzcRdOKtf+nyjF0rJtrDyl3PedyUHyaiUhqQWLRsrSJxD0vnK+bRHKn8ei4/ZEJYwB0SlLMRpb8NySIrA/xdG7hK9TgAKBIsCg4qWWtBdUWrqkTLJ1OagEf3TV5Nqg20dj2oT7G4d+tAtWmCfg2hj6qbaY1KoGldsaewTszXN1fA39QUW9pvUHeq8JeGleBL5SyrbvF9JrdGW4qMnQXCd1CKW6cQjJnLauTNa9OQ15951BTvJqmOOARRPI0NfVQU1eHJ78KsabtiumUF5/EA3rp+FKB5PlZFr5c6zFcJx26rP4RCu3VdtYtn+zcsOE2Hk5GFIldSm3CCeXMf3Vx9BuC4d9vPSW5WkpQAGDCjCoeKlhWjWoBCsfnumP4PoDa5G1fg8qlbGGq3phPBFUdF3DzaDSPw4Zyf3wd+0D/5ZSLHz+TRyz0WaeDioPpK7BY+3f0RlUrIPMlQKqAcypoBKMxxe8jF98bZ63I71Koy9j839dQOxEE97hsI+X3rE8LQUoYFQBBhUvtUyrBhU1iFiGhMbf0kdd9mCPiq5rhGDPjIUosBh+alpWbTVHxdHQzycPKXNRRkKduyHTbNTNZIKpoUEdBrEbVIJsDP30HYaRt/wDJTsvIdatoZ+7MX3ZVPQpX6XOdzEXTCmaUi6lYM4HFWWuTnYcbirWhpKGI1npSbmxth5dzhZy2MdL71eelgIUMK4Ag4qX2sabQWVQQhZm/OxvyHxlK6rqa9BtotVv7b3G4Q9p9+LSh3n44+5T6D4sHk8NvwXXHPNgUHF0DZPSq6PMBO28NxdZm07gpnvGIW7sQNyolUGd5zECP2yeh9f2n0dNfbg6mbbn0Y1Y9UaRMpn2Yfw28VfoflSbTKt8YGeOR1hVEV7NehtHOw1E7Iw4DPgqG79bd8R+UFHmkTieTHtZnSxbcFiZTDs+GRPv+QHvtzCZdtjkaXi0/8WmybTqZNuhP0LZ+hy89oHSHtFPYerDnVC0IBNVj13dNqa+IxHbrxbFf9mvrsBqmkyrXVsm8g78Fu/MVybQmgOZOgzVvwMqCmSuCmeneOkty9NSgAIGFWBQ8VLDeDOoIHwcXkz4JbpfcxZ7tQmbVsMLodFJeG50f2W57WXUnfwUpd+HY8i1xY0Tbj0x9KO42b2G+fVZj92B6ztcxPnqw/jywh3o16A9qC4Yw5+dq6xwuR7tyhsn+cry5N9OG4V+6pJqWZ68E6v/tAPKKt/GDhTL162WGNvtUZFpK5bLk5udW1mePDkF4yO74Trz8uTiTSuwYb+2PsfR8mTL49vhYt1JfJq/GmuKTzfrUek17g9IG/YdNk99BTKdWp1Me3Ef/i94IPrI8uR/nsJ+ZeWSHNu0KcM/q5RJxe+aV/946ZblaSlAAQoYUoBBxUvN4tWg4qUyNzutGmgi0XwKa+NEUf97oqyv4PRfp/lk2ubHyvBRohJEE5WlP+xP0W/LPSlAgcAQYFDxUjsGRFDxkg1Pe0XAXlAx3dgToV3vxBPTo3GhgKt9eN9QgAJtU4BBxUvtzqDiJdgAO629oNI/LgPJUT/Gtwc3I1N7qnCA1Z/VoQAFKOBIgEHFkZCLrzOouAjHwyhAAQpQgAIWAgwqXrodRowYgTlz5jh19vnz56OkpMSpY7gzBShAAQpQIJAFGFS82LphYWG47rrrdF3h3Llz6iP0uVGAAhSgAAUocEWAQYV3AwUoQAEKUIAChhVgUDFs07BgFKAABShAAQowqPAeoAAFKEABClDAsAIMKoZtGhaMAhSgAAUoQAEGFd4DFKAABShAAQoYVoBBxbBNw4JRgAIUoAAFKPD/MvR2OIicFMoAAAAASUVORK5CYII=)"
      ],
      "metadata": {
        "id": "f2doi9zKalc0"
      }
    },
    {
      "cell_type": "markdown",
      "source": [
        "## Step 2)"
      ],
      "metadata": {
        "id": "3gPUEWKzbD4_"
      }
    },
    {
      "cell_type": "markdown",
      "source": [
        "Get supplemental material from https://drive.google.com/drive/folders/1hfz-N2XZDlBGXl0WxZ7MMmnPKSLsDvyb?usp=sharing. "
      ],
      "metadata": {
        "id": "ek1EkEIJbFYi"
      }
    },
    {
      "cell_type": "markdown",
      "source": [
        "The following file is povided in the supplemental material in order to run a quick autoencoder training example:\n",
        "\n",
        "\n",
        "1.   Codebase_Sample_Dataset.pcap"
      ],
      "metadata": {
        "id": "tw8DkD79bHzH"
      }
    },
    {
      "cell_type": "markdown",
      "source": [
        "The following code will prompt you to enter the directory where the pcap file is stored. You can either upload it directly to the colab instance (same as the scripts) or store it on a google drive and mount the drive for access. The example below uses the mount google drive method."
      ],
      "metadata": {
        "id": "_bc6iBa5bW2W"
      }
    },
    {
      "cell_type": "markdown",
      "source": [
        "## Step 3)"
      ],
      "metadata": {
        "id": "13Dtos2ubjiw"
      }
    },
    {
      "cell_type": "markdown",
      "source": [
        "Mount google drive for access to supplemental material."
      ],
      "metadata": {
        "id": "VmuIq8I2bjiy"
      }
    },
    {
      "cell_type": "code",
      "execution_count": 1,
      "metadata": {
        "colab": {
          "base_uri": "https://localhost:8080/"
        },
        "outputId": "3117793a-e824-4e02-a880-0c5d9797ed07",
        "id": "mMBO6WSfbjiz"
      },
      "outputs": [
        {
          "output_type": "stream",
          "name": "stdout",
          "text": [
            "Mounted at /content/drive\n"
          ]
        }
      ],
      "source": [
        "from google.colab import drive\n",
        "drive.mount('/content/drive')"
      ]
    },
    {
      "cell_type": "markdown",
      "source": [
        "## Step 4)"
      ],
      "metadata": {
        "id": "aRmYRGjmbmv7"
      }
    },
    {
      "cell_type": "markdown",
      "source": [
        "Run the code to train the autoencoder model. You will be prompted for the directory path to the supplemental file and the autoencoder model hyperparameters."
      ],
      "metadata": {
        "id": "Mg3rHFb7boPR"
      }
    },
    {
      "cell_type": "markdown",
      "source": [
        "The path to the sample dataset pcap file:\n",
        "\n",
        "/content/drive/MyDrive/ECE697_Supplemental_Material/Datasets/Codebase_Sample_Dataset/Codebase_Sample_Dataset.pcap"
      ],
      "metadata": {
        "id": "Xsw4-aw5cFd4"
      }
    },
    {
      "cell_type": "markdown",
      "source": [
        "The code will save the trained encoder model for later use."
      ],
      "metadata": {
        "id": "j4wjQQJMcThi"
      }
    },
    {
      "cell_type": "code",
      "source": [
        "!python train_autoencoder.py"
      ],
      "metadata": {
        "colab": {
          "base_uri": "https://localhost:8080/"
        },
        "id": "JypwoFonY_CX",
        "outputId": "9ba2610c-718e-4cbe-8b9a-a77a4354199d"
      },
      "execution_count": 2,
      "outputs": [
        {
          "output_type": "stream",
          "name": "stdout",
          "text": [
            "Enter pcap file path to be used for autoencoder training: /content/drive/MyDrive/ECE697_Supplemental_Material/Datasets/Codebase_Sample_Dataset/Codebase_Sample_Dataset.pcap\n",
            "Looking in indexes: https://pypi.org/simple, https://us-python.pkg.dev/colab-wheels/public/simple/\n",
            "Collecting scapy\n",
            "  Downloading scapy-2.4.5.tar.gz (1.1 MB)\n",
            "\u001b[K     |████████████████████████████████| 1.1 MB 5.1 MB/s \n",
            "\u001b[?25hBuilding wheels for collected packages: scapy\n",
            "  Building wheel for scapy (setup.py) ... \u001b[?25l\u001b[?25hdone\n",
            "  Created wheel for scapy: filename=scapy-2.4.5-py2.py3-none-any.whl size=1261555 sha256=ef2cbf443df19533939cd61d75c982ac80faeadb1046877b4cda6d7caf6bd2cd\n",
            "  Stored in directory: /root/.cache/pip/wheels/b9/6e/c0/0157e466a5e02d3ff28fc7587dff329b4a967a23b3f9b11385\n",
            "Successfully built scapy\n",
            "Installing collected packages: scapy\n",
            "Successfully installed scapy-2.4.5\n",
            "Enter value for model training learning rate: 0.001\n",
            "Enter batch size for model training: 64\n",
            "Enter number of epochs to train model for: 5\n",
            "2022-08-22 23:18:13.318359: E tensorflow/stream_executor/cuda/cuda_driver.cc:271] failed call to cuInit: CUDA_ERROR_NO_DEVICE: no CUDA-capable device is detected\n",
            "Epoch 1/5\n",
            "8/8 [==============================] - 6s 530ms/step - loss: 88.4126 - mean_squared_error: 0.1814 - kullback_leibler_divergence: 88.2218\n",
            "Epoch 2/5\n",
            "8/8 [==============================] - 4s 553ms/step - loss: 0.1840 - mean_squared_error: 0.1588 - kullback_leibler_divergence: 0.0125\n",
            "Epoch 3/5\n",
            "8/8 [==============================] - 4s 544ms/step - loss: 0.1660 - mean_squared_error: 0.1590 - kullback_leibler_divergence: -0.0057\n",
            "Epoch 4/5\n",
            "8/8 [==============================] - 4s 516ms/step - loss: 0.1676 - mean_squared_error: 0.1590 - kullback_leibler_divergence: -0.0042\n",
            "Epoch 5/5\n",
            "8/8 [==============================] - 4s 528ms/step - loss: 0.1674 - mean_squared_error: 0.1590 - kullback_leibler_divergence: -0.0044\n",
            "\n",
            "\n",
            "2022-08-22 23:18:37.799239: W tensorflow/python/util/util.cc:368] Sets are not currently considered sequences, but this may change in the future, so consider avoiding using them.\n"
          ]
        }
      ]
    },
    {
      "cell_type": "markdown",
      "source": [
        "# Fine Tune NLP Model"
      ],
      "metadata": {
        "id": "i2Qsl_eOxMkp"
      }
    },
    {
      "cell_type": "markdown",
      "source": [
        "## Step 1)"
      ],
      "metadata": {
        "id": "-wYo_wB2xMkq"
      }
    },
    {
      "cell_type": "markdown",
      "source": [
        "Upload the following python scripts to current colab instance:\n",
        "\n",
        "\n",
        "1.   fine_tune_nlp.py\n",
        "\n",
        "For example: \n",
        "\n",
        "![image.png](data:image/png;base64,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)"
      ],
      "metadata": {
        "id": "vRByUXoExMkq"
      }
    },
    {
      "cell_type": "markdown",
      "source": [
        "## Step 2)"
      ],
      "metadata": {
        "id": "rO-l3OKLxMkr"
      }
    },
    {
      "cell_type": "markdown",
      "source": [
        "Get supplemental material from https://drive.google.com/drive/folders/1hfz-N2XZDlBGXl0WxZ7MMmnPKSLsDvyb?usp=sharing. "
      ],
      "metadata": {
        "id": "BBt7vfyoxMks"
      }
    },
    {
      "cell_type": "markdown",
      "source": [
        "The following files are povided in the supplemental material in order to run a quick nlp fine tunning example:\n",
        "\n",
        "\n",
        "1.   Codebase_Sample_Dataset.csv\n",
        "2.   Codebase_Sample_Dataset_labels.csv"
      ],
      "metadata": {
        "id": "TeBTn8e7xMks"
      }
    },
    {
      "cell_type": "markdown",
      "source": [
        "The following code will prompt you to enter the directory where the pcap csv file and pcap csv label file are stored. You can either upload them directly to the colab instance (same as the scripts) or store them on a google drive and mount the drive for access. The example below uses the mount google drive method."
      ],
      "metadata": {
        "id": "WlBeLI40xMkt"
      }
    },
    {
      "cell_type": "markdown",
      "source": [
        "## Step 3)"
      ],
      "metadata": {
        "id": "I1cGo87nxMkt"
      }
    },
    {
      "cell_type": "markdown",
      "source": [
        "Mount google drive for access to supplemental material."
      ],
      "metadata": {
        "id": "cqTYCCw8xMku"
      }
    },
    {
      "cell_type": "code",
      "execution_count": 3,
      "metadata": {
        "colab": {
          "base_uri": "https://localhost:8080/"
        },
        "outputId": "0f32fb47-1a86-4b30-e75b-6426d6396e9d",
        "id": "izbqIC63xMku"
      },
      "outputs": [
        {
          "output_type": "stream",
          "name": "stdout",
          "text": [
            "Drive already mounted at /content/drive; to attempt to forcibly remount, call drive.mount(\"/content/drive\", force_remount=True).\n"
          ]
        }
      ],
      "source": [
        "from google.colab import drive\n",
        "drive.mount('/content/drive')"
      ]
    },
    {
      "cell_type": "markdown",
      "source": [
        "## Step 4)"
      ],
      "metadata": {
        "id": "tSECrwVhxMkv"
      }
    },
    {
      "cell_type": "markdown",
      "source": [
        "Run the code to fine tune the Distilbert nlp model. You will be prompted for the directory path to the supplemental files."
      ],
      "metadata": {
        "id": "iHoix6jhxMkv"
      }
    },
    {
      "cell_type": "markdown",
      "source": [
        "The path to the sample dataset csv file:\n",
        "\n",
        "/content/drive/MyDrive/ECE697_Supplemental_Material/Datasets/Codebase_Sample_Dataset/Codebase_Sample_Dataset.csv\n",
        "\n",
        "The path to the sample dataset label csv file:\n",
        "\n",
        "/content/drive/MyDrive/ECE697_Supplemental_Material/Datasets/Codebase_Sample_Dataset/Codebase_Sample_Dataset_Labels.csv"
      ],
      "metadata": {
        "id": "4mXQ7zK3xMkv"
      }
    },
    {
      "cell_type": "markdown",
      "source": [
        "The code will save the fine tunned nlp model for later use."
      ],
      "metadata": {
        "id": "pSrcRO24xMkw"
      }
    },
    {
      "cell_type": "code",
      "source": [
        "!python fine_tune_nlp.py"
      ],
      "metadata": {
        "colab": {
          "base_uri": "https://localhost:8080/"
        },
        "outputId": "2aac7d2d-6d71-48b4-9457-ae644d72f1fa",
        "id": "RYd5TJJ5xMkx"
      },
      "execution_count": 4,
      "outputs": [
        {
          "output_type": "stream",
          "name": "stdout",
          "text": [
            "Enter pcap csv file path NLP fine tuning: /content/drive/MyDrive/ECE697_Supplemental_Material/Datasets/Codebase_Sample_Dataset/Codebase_Sample_Dataset.csv\n",
            "Enter pcap label file path for NLP fine tuning: /content/drive/MyDrive/ECE697_Supplemental_Material/Datasets/Codebase_Sample_Dataset/Codebase_Sample_Dataset_Labels.csv\n",
            "Looking in indexes: https://pypi.org/simple, https://us-python.pkg.dev/colab-wheels/public/simple/\n",
            "Collecting torch-summary\n",
            "  Downloading torch_summary-1.4.5-py3-none-any.whl (16 kB)\n",
            "Installing collected packages: torch-summary\n",
            "Successfully installed torch-summary-1.4.5\n",
            "Looking in indexes: https://pypi.org/simple, https://us-python.pkg.dev/colab-wheels/public/simple/\n",
            "Collecting transformers\n",
            "  Downloading transformers-4.21.1-py3-none-any.whl (4.7 MB)\n",
            "\u001b[K     |████████████████████████████████| 4.7 MB 5.3 MB/s \n",
            "\u001b[?25hRequirement already satisfied: packaging>=20.0 in /usr/local/lib/python3.7/dist-packages (from transformers) (21.3)\n",
            "Requirement already satisfied: numpy>=1.17 in /usr/local/lib/python3.7/dist-packages (from transformers) (1.21.6)\n",
            "Collecting tokenizers!=0.11.3,<0.13,>=0.11.1\n",
            "  Downloading tokenizers-0.12.1-cp37-cp37m-manylinux_2_12_x86_64.manylinux2010_x86_64.whl (6.6 MB)\n",
            "\u001b[K     |████████████████████████████████| 6.6 MB 41.9 MB/s \n",
            "\u001b[?25hRequirement already satisfied: tqdm>=4.27 in /usr/local/lib/python3.7/dist-packages (from transformers) (4.64.0)\n",
            "Requirement already satisfied: importlib-metadata in /usr/local/lib/python3.7/dist-packages (from transformers) (4.12.0)\n",
            "Requirement already satisfied: filelock in /usr/local/lib/python3.7/dist-packages (from transformers) (3.8.0)\n",
            "Requirement already satisfied: regex!=2019.12.17 in /usr/local/lib/python3.7/dist-packages (from transformers) (2022.6.2)\n",
            "Collecting huggingface-hub<1.0,>=0.1.0\n",
            "  Downloading huggingface_hub-0.8.1-py3-none-any.whl (101 kB)\n",
            "\u001b[K     |████████████████████████████████| 101 kB 8.1 MB/s \n",
            "\u001b[?25hRequirement already satisfied: requests in /usr/local/lib/python3.7/dist-packages (from transformers) (2.23.0)\n",
            "Requirement already satisfied: pyyaml>=5.1 in /usr/local/lib/python3.7/dist-packages (from transformers) (6.0)\n",
            "Requirement already satisfied: typing-extensions>=3.7.4.3 in /usr/local/lib/python3.7/dist-packages (from huggingface-hub<1.0,>=0.1.0->transformers) (4.1.1)\n",
            "Requirement already satisfied: pyparsing!=3.0.5,>=2.0.2 in /usr/local/lib/python3.7/dist-packages (from packaging>=20.0->transformers) (3.0.9)\n",
            "Requirement already satisfied: zipp>=0.5 in /usr/local/lib/python3.7/dist-packages (from importlib-metadata->transformers) (3.8.1)\n",
            "Requirement already satisfied: certifi>=2017.4.17 in /usr/local/lib/python3.7/dist-packages (from requests->transformers) (2022.6.15)\n",
            "Requirement already satisfied: chardet<4,>=3.0.2 in /usr/local/lib/python3.7/dist-packages (from requests->transformers) (3.0.4)\n",
            "Requirement already satisfied: idna<3,>=2.5 in /usr/local/lib/python3.7/dist-packages (from requests->transformers) (2.10)\n",
            "Requirement already satisfied: urllib3!=1.25.0,!=1.25.1,<1.26,>=1.21.1 in /usr/local/lib/python3.7/dist-packages (from requests->transformers) (1.24.3)\n",
            "Installing collected packages: tokenizers, huggingface-hub, transformers\n",
            "Successfully installed huggingface-hub-0.8.1 tokenizers-0.12.1 transformers-4.21.1\n",
            "Looking in indexes: https://pypi.org/simple, https://us-python.pkg.dev/colab-wheels/public/simple/\n",
            "Collecting datasets\n",
            "  Downloading datasets-2.4.0-py3-none-any.whl (365 kB)\n",
            "\u001b[K     |████████████████████████████████| 365 kB 5.4 MB/s \n",
            "\u001b[?25hCollecting responses<0.19\n",
            "  Downloading responses-0.18.0-py3-none-any.whl (38 kB)\n",
            "Requirement already satisfied: importlib-metadata in /usr/local/lib/python3.7/dist-packages (from datasets) (4.12.0)\n",
            "Requirement already satisfied: dill<0.3.6 in /usr/local/lib/python3.7/dist-packages (from datasets) (0.3.5.1)\n",
            "Requirement already satisfied: pyarrow>=6.0.0 in /usr/local/lib/python3.7/dist-packages (from datasets) (6.0.1)\n",
            "Requirement already satisfied: tqdm>=4.62.1 in /usr/local/lib/python3.7/dist-packages (from datasets) (4.64.0)\n",
            "Collecting xxhash\n",
            "  Downloading xxhash-3.0.0-cp37-cp37m-manylinux_2_17_x86_64.manylinux2014_x86_64.whl (212 kB)\n",
            "\u001b[K     |████████████████████████████████| 212 kB 60.3 MB/s \n",
            "\u001b[?25hCollecting multiprocess\n",
            "  Downloading multiprocess-0.70.13-py37-none-any.whl (115 kB)\n",
            "\u001b[K     |████████████████████████████████| 115 kB 65.1 MB/s \n",
            "\u001b[?25hRequirement already satisfied: pandas in /usr/local/lib/python3.7/dist-packages (from datasets) (1.3.5)\n",
            "Requirement already satisfied: numpy>=1.17 in /usr/local/lib/python3.7/dist-packages (from datasets) (1.21.6)\n",
            "Requirement already satisfied: aiohttp in /usr/local/lib/python3.7/dist-packages (from datasets) (3.8.1)\n",
            "Requirement already satisfied: fsspec[http]>=2021.11.1 in /usr/local/lib/python3.7/dist-packages (from datasets) (2022.7.1)\n",
            "Requirement already satisfied: huggingface-hub<1.0.0,>=0.1.0 in /usr/local/lib/python3.7/dist-packages (from datasets) (0.8.1)\n",
            "Requirement already satisfied: packaging in /usr/local/lib/python3.7/dist-packages (from datasets) (21.3)\n",
            "Requirement already satisfied: requests>=2.19.0 in /usr/local/lib/python3.7/dist-packages (from datasets) (2.23.0)\n",
            "Requirement already satisfied: typing-extensions>=3.7.4.3 in /usr/local/lib/python3.7/dist-packages (from huggingface-hub<1.0.0,>=0.1.0->datasets) (4.1.1)\n",
            "Requirement already satisfied: pyyaml>=5.1 in /usr/local/lib/python3.7/dist-packages (from huggingface-hub<1.0.0,>=0.1.0->datasets) (6.0)\n",
            "Requirement already satisfied: filelock in /usr/local/lib/python3.7/dist-packages (from huggingface-hub<1.0.0,>=0.1.0->datasets) (3.8.0)\n",
            "Requirement already satisfied: pyparsing!=3.0.5,>=2.0.2 in /usr/local/lib/python3.7/dist-packages (from packaging->datasets) (3.0.9)\n",
            "Requirement already satisfied: urllib3!=1.25.0,!=1.25.1,<1.26,>=1.21.1 in /usr/local/lib/python3.7/dist-packages (from requests>=2.19.0->datasets) (1.24.3)\n",
            "Requirement already satisfied: certifi>=2017.4.17 in /usr/local/lib/python3.7/dist-packages (from requests>=2.19.0->datasets) (2022.6.15)\n",
            "Requirement already satisfied: chardet<4,>=3.0.2 in /usr/local/lib/python3.7/dist-packages (from requests>=2.19.0->datasets) (3.0.4)\n",
            "Requirement already satisfied: idna<3,>=2.5 in /usr/local/lib/python3.7/dist-packages (from requests>=2.19.0->datasets) (2.10)\n",
            "Collecting urllib3!=1.25.0,!=1.25.1,<1.26,>=1.21.1\n",
            "  Downloading urllib3-1.25.11-py2.py3-none-any.whl (127 kB)\n",
            "\u001b[K     |████████████████████████████████| 127 kB 52.2 MB/s \n",
            "\u001b[?25hRequirement already satisfied: yarl<2.0,>=1.0 in /usr/local/lib/python3.7/dist-packages (from aiohttp->datasets) (1.8.1)\n",
            "Requirement already satisfied: async-timeout<5.0,>=4.0.0a3 in /usr/local/lib/python3.7/dist-packages (from aiohttp->datasets) (4.0.2)\n",
            "Requirement already satisfied: attrs>=17.3.0 in /usr/local/lib/python3.7/dist-packages (from aiohttp->datasets) (22.1.0)\n",
            "Requirement already satisfied: asynctest==0.13.0 in /usr/local/lib/python3.7/dist-packages (from aiohttp->datasets) (0.13.0)\n",
            "Requirement already satisfied: multidict<7.0,>=4.5 in /usr/local/lib/python3.7/dist-packages (from aiohttp->datasets) (6.0.2)\n",
            "Requirement already satisfied: charset-normalizer<3.0,>=2.0 in /usr/local/lib/python3.7/dist-packages (from aiohttp->datasets) (2.1.0)\n",
            "Requirement already satisfied: frozenlist>=1.1.1 in /usr/local/lib/python3.7/dist-packages (from aiohttp->datasets) (1.3.1)\n",
            "Requirement already satisfied: aiosignal>=1.1.2 in /usr/local/lib/python3.7/dist-packages (from aiohttp->datasets) (1.2.0)\n",
            "Requirement already satisfied: zipp>=0.5 in /usr/local/lib/python3.7/dist-packages (from importlib-metadata->datasets) (3.8.1)\n",
            "Requirement already satisfied: python-dateutil>=2.7.3 in /usr/local/lib/python3.7/dist-packages (from pandas->datasets) (2.8.2)\n",
            "Requirement already satisfied: pytz>=2017.3 in /usr/local/lib/python3.7/dist-packages (from pandas->datasets) (2022.2.1)\n",
            "Requirement already satisfied: six>=1.5 in /usr/local/lib/python3.7/dist-packages (from python-dateutil>=2.7.3->pandas->datasets) (1.15.0)\n",
            "Installing collected packages: urllib3, xxhash, responses, multiprocess, datasets\n",
            "  Attempting uninstall: urllib3\n",
            "    Found existing installation: urllib3 1.24.3\n",
            "    Uninstalling urllib3-1.24.3:\n",
            "      Successfully uninstalled urllib3-1.24.3\n",
            "Successfully installed datasets-2.4.0 multiprocess-0.70.13 responses-0.18.0 urllib3-1.25.11 xxhash-3.0.0\n",
            "Downloading tokenizer_config.json: 100% 28.0/28.0 [00:00<00:00, 23.0kB/s]\n",
            "Downloading config.json: 100% 483/483 [00:00<00:00, 323kB/s]\n",
            "Downloading vocab.txt: 100% 226k/226k [00:00<00:00, 2.12MB/s]\n",
            "Downloading tokenizer.json: 100% 455k/455k [00:00<00:00, 3.40MB/s]\n",
            "100% 1/1 [00:00<00:00, 27.23ba/s]\n",
            "100% 1/1 [00:00<00:00, 76.38ba/s]\n",
            "Downloading pytorch_model.bin: 100% 256M/256M [00:05<00:00, 53.6MB/s]\n",
            "Some weights of the model checkpoint at distilbert-base-uncased were not used when initializing DistilBertForSequenceClassification: ['vocab_projector.bias', 'vocab_layer_norm.bias', 'vocab_transform.bias', 'vocab_transform.weight', 'vocab_layer_norm.weight', 'vocab_projector.weight']\n",
            "- This IS expected if you are initializing DistilBertForSequenceClassification from the checkpoint of a model trained on another task or with another architecture (e.g. initializing a BertForSequenceClassification model from a BertForPreTraining model).\n",
            "- This IS NOT expected if you are initializing DistilBertForSequenceClassification from the checkpoint of a model that you expect to be exactly identical (initializing a BertForSequenceClassification model from a BertForSequenceClassification model).\n",
            "Some weights of DistilBertForSequenceClassification were not initialized from the model checkpoint at distilbert-base-uncased and are newly initialized: ['classifier.bias', 'pre_classifier.bias', 'classifier.weight', 'pre_classifier.weight']\n",
            "You should probably TRAIN this model on a down-stream task to be able to use it for predictions and inference.\n",
            "The following columns in the training set don't have a corresponding argument in `DistilBertForSequenceClassification.forward` and have been ignored: text. If text are not expected by `DistilBertForSequenceClassification.forward`,  you can safely ignore this message.\n",
            "***** Running training *****\n",
            "  Num examples = 350\n",
            "  Num Epochs = 1\n",
            "  Instantaneous batch size per device = 15\n",
            "  Total train batch size (w. parallel, distributed & accumulation) = 15\n",
            "  Gradient Accumulation steps = 1\n",
            "  Total optimization steps = 24\n",
            "100% 24/24 [02:01<00:00,  4.23s/it]\n",
            "\n",
            "Training completed. Do not forget to share your model on huggingface.co/models =)\n",
            "\n",
            "\n",
            "{'train_runtime': 121.5942, 'train_samples_per_second': 2.878, 'train_steps_per_second': 0.197, 'train_loss': 0.6112865209579468, 'epoch': 1.0}\n",
            "100% 24/24 [02:01<00:00,  5.07s/it]\n",
            "Configuration saved in fine_tuned_nlp/config.json\n",
            "Model weights saved in fine_tuned_nlp/pytorch_model.bin\n"
          ]
        }
      ]
    },
    {
      "cell_type": "markdown",
      "source": [
        "# Train and Test LSTM Model"
      ],
      "metadata": {
        "id": "sgPEI7qxGyRa"
      }
    },
    {
      "cell_type": "markdown",
      "source": [
        "## Step 1)"
      ],
      "metadata": {
        "id": "TL8RFepEA7f-"
      }
    },
    {
      "cell_type": "markdown",
      "source": [
        "Upload the following python scripts to current colab instance:\n",
        "\n",
        "\n",
        "1.   autoencoder_feature_generator.py\n",
        "2.   manual_feature_generator.py\n",
        "3.   nlp_feature_generator.py\n",
        "4.   create_lstm_inputs.py\n",
        "5.   lstm_model.py\n",
        "6.   lstm_classification_testing.py\n",
        "\n",
        "For example: \n",
        "\n",
        "![image.png](data:image/png;base64,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)"
      ],
      "metadata": {
        "id": "NcUjNZZNA_MD"
      }
    },
    {
      "cell_type": "markdown",
      "source": [
        "## Step 2)"
      ],
      "metadata": {
        "id": "y1d9B27EECZv"
      }
    },
    {
      "cell_type": "markdown",
      "source": [
        "Get supplemental material from https://drive.google.com/drive/folders/1hfz-N2XZDlBGXl0WxZ7MMmnPKSLsDvyb?usp=sharing. "
      ],
      "metadata": {
        "id": "Uw9uBbD8EGK4"
      }
    },
    {
      "cell_type": "markdown",
      "source": [
        "The following files are povided in the supplemental material in order to run a simple classification test:\n",
        "\n",
        "\n",
        "1.   Codebase_Sample_Dataset.pcap\n",
        "2.   Codebase_Sample_Dataset.csv\n",
        "3.   Codebase_Sample_Dataset_Labels.csv\n",
        "\n"
      ],
      "metadata": {
        "id": "_MdFI-YEEmj0"
      }
    },
    {
      "cell_type": "markdown",
      "source": [
        "The following code will prompt you to enter the directory where each of these files are stored. You can either upload them directly to the colab instance (same as the scripts) or store them on a google drive and mount the drive for access. The example below uses the mount google drive method."
      ],
      "metadata": {
        "id": "ZrtqJ7PAFFPM"
      }
    },
    {
      "cell_type": "markdown",
      "source": [
        "## Step 3)"
      ],
      "metadata": {
        "id": "DRWPBq6RGDvN"
      }
    },
    {
      "cell_type": "markdown",
      "source": [
        "Mount google drive for access to supplemental material."
      ],
      "metadata": {
        "id": "yW4HLm7oGGQg"
      }
    },
    {
      "cell_type": "code",
      "execution_count": 5,
      "metadata": {
        "colab": {
          "base_uri": "https://localhost:8080/"
        },
        "id": "j3Qax-dlzTDi",
        "outputId": "4a1cb8a4-0381-4dd1-a1b9-d90e526a198f"
      },
      "outputs": [
        {
          "output_type": "stream",
          "name": "stdout",
          "text": [
            "Drive already mounted at /content/drive; to attempt to forcibly remount, call drive.mount(\"/content/drive\", force_remount=True).\n"
          ]
        }
      ],
      "source": [
        "from google.colab import drive\n",
        "drive.mount('/content/drive')"
      ]
    },
    {
      "cell_type": "markdown",
      "source": [
        "## Step 4)"
      ],
      "metadata": {
        "id": "1K_xGXOKGM6y"
      }
    },
    {
      "cell_type": "markdown",
      "source": [
        "Run code to prepare LSTM input data, train the LSTM model, and test it. You will be prompted for how you want to split the train and test data, the directory path to the supplemental files, the feature extraction technique you would like to use, the lstm input timestep, the method for creating the input timesteps, and the lstm model hyperparameters."
      ],
      "metadata": {
        "id": "ZrLnvTaWGOlb"
      }
    },
    {
      "cell_type": "markdown",
      "source": [
        "The path to the sample dataset pcap file:\n",
        "\n",
        "/content/drive/MyDrive/ECE697_Supplemental_Material/Datasets/Codebase_Sample_Dataset/Codebase_Sample_Dataset.pcap\n",
        "\n",
        "The path to the sample dataset csv file:\n",
        "\n",
        "/content/drive/MyDrive/ECE697_Supplemental_Material/Datasets/Codebase_Sample_Dataset/Codebase_Sample_Dataset.csv\n",
        "\n",
        "The path to the sample dataset label csv file:\n",
        "\n",
        "/content/drive/MyDrive/ECE697_Supplemental_Material/Datasets/Codebase_Sample_Dataset/Codebase_Sample_Dataset_Labels.csv"
      ],
      "metadata": {
        "id": "NlqPrr0qKtlE"
      }
    },
    {
      "cell_type": "markdown",
      "source": [
        "If you would like to use the autoencoder feature extraction method, the final encoder model used for this project is located in the supplemental material:\n",
        "\n",
        "/content/drive/MyDrive/ECE697_Supplemental_Material/Models/Autoencoder/encoder\n",
        "\n",
        "If you would like to use the encoder model trained above using this notebook:\n",
        "\n",
        "/content/encoder"
      ],
      "metadata": {
        "id": "zBLYnuJlKLdt"
      }
    },
    {
      "cell_type": "markdown",
      "source": [
        "If you would like to use the NLP feature extraction method, the final fine tuned Distilbert model used for this project is located in the supplemental material:\n",
        "\n",
        "/content/drive/MyDrive/ECE697_Supplemental_Material/Models/NLP\n",
        "\n",
        "If you would like to use the fine tunned NLP model trained above using this notebook:\n",
        "\n",
        "/content/fine_tuned_nlp"
      ],
      "metadata": {
        "id": "-oZBKZ7rcbMd"
      }
    },
    {
      "cell_type": "markdown",
      "source": [
        "The code will save the generated features (before applying the timestep and after applying the timestep), trained LSTM model, LSTM training loss curve, and final predicted labels to the colab instance. "
      ],
      "metadata": {
        "id": "XpG3zyrVLvTj"
      }
    },
    {
      "cell_type": "code",
      "source": [
        "!python lstm_classification_testing.py"
      ],
      "metadata": {
        "colab": {
          "base_uri": "https://localhost:8080/"
        },
        "id": "7iNTYTIPANX1",
        "outputId": "610dc867-b563-4c1d-bffd-5d5d0eecfc71"
      },
      "execution_count": 6,
      "outputs": [
        {
          "output_type": "stream",
          "name": "stdout",
          "text": [
            "Enter classification train/test methodology (80/20 split or separate train/test sets): 80/20 split\n",
            "Enter pcap file path for feature generation: /content/drive/MyDrive/ECE697_Supplemental_Material/Datasets/Codebase_Sample_Dataset/Codebase_Sample_Dataset.pcap\n",
            "Enter pcap csv file path feature generation: /content/drive/MyDrive/ECE697_Supplemental_Material/Datasets/Codebase_Sample_Dataset/Codebase_Sample_Dataset.csv\n",
            "Enter pcap label file path for classification: /content/drive/MyDrive/ECE697_Supplemental_Material/Datasets/Codebase_Sample_Dataset/Codebase_Sample_Dataset_Labels.csv\n",
            "Enter feature extraction method to use (AE, Manual, or NLP): NLP\n",
            "Enter fine tuned nlp file path for nlp feature generation: /content/drive/MyDrive/ECE697_Supplemental_Material/Models/NLP\n",
            "Looking in indexes: https://pypi.org/simple, https://us-python.pkg.dev/colab-wheels/public/simple/\n",
            "Requirement already satisfied: transformers in /usr/local/lib/python3.7/dist-packages (4.21.1)\n",
            "Requirement already satisfied: packaging>=20.0 in /usr/local/lib/python3.7/dist-packages (from transformers) (21.3)\n",
            "Requirement already satisfied: tqdm>=4.27 in /usr/local/lib/python3.7/dist-packages (from transformers) (4.64.0)\n",
            "Requirement already satisfied: requests in /usr/local/lib/python3.7/dist-packages (from transformers) (2.23.0)\n",
            "Requirement already satisfied: regex!=2019.12.17 in /usr/local/lib/python3.7/dist-packages (from transformers) (2022.6.2)\n",
            "Requirement already satisfied: huggingface-hub<1.0,>=0.1.0 in /usr/local/lib/python3.7/dist-packages (from transformers) (0.8.1)\n",
            "Requirement already satisfied: importlib-metadata in /usr/local/lib/python3.7/dist-packages (from transformers) (4.12.0)\n",
            "Requirement already satisfied: numpy>=1.17 in /usr/local/lib/python3.7/dist-packages (from transformers) (1.21.6)\n",
            "Requirement already satisfied: tokenizers!=0.11.3,<0.13,>=0.11.1 in /usr/local/lib/python3.7/dist-packages (from transformers) (0.12.1)\n",
            "Requirement already satisfied: filelock in /usr/local/lib/python3.7/dist-packages (from transformers) (3.8.0)\n",
            "Requirement already satisfied: pyyaml>=5.1 in /usr/local/lib/python3.7/dist-packages (from transformers) (6.0)\n",
            "Requirement already satisfied: typing-extensions>=3.7.4.3 in /usr/local/lib/python3.7/dist-packages (from huggingface-hub<1.0,>=0.1.0->transformers) (4.1.1)\n",
            "Requirement already satisfied: pyparsing!=3.0.5,>=2.0.2 in /usr/local/lib/python3.7/dist-packages (from packaging>=20.0->transformers) (3.0.9)\n",
            "Requirement already satisfied: zipp>=0.5 in /usr/local/lib/python3.7/dist-packages (from importlib-metadata->transformers) (3.8.1)\n",
            "Requirement already satisfied: certifi>=2017.4.17 in /usr/local/lib/python3.7/dist-packages (from requests->transformers) (2022.6.15)\n",
            "Requirement already satisfied: urllib3!=1.25.0,!=1.25.1,<1.26,>=1.21.1 in /usr/local/lib/python3.7/dist-packages (from requests->transformers) (1.25.11)\n",
            "Requirement already satisfied: idna<3,>=2.5 in /usr/local/lib/python3.7/dist-packages (from requests->transformers) (2.10)\n",
            "Requirement already satisfied: chardet<4,>=3.0.2 in /usr/local/lib/python3.7/dist-packages (from requests->transformers) (3.0.4)\n",
            "Some weights of the model checkpoint at distilbert-base-uncased were not used when initializing DistilBertForSequenceClassification: ['vocab_projector.weight', 'vocab_layer_norm.weight', 'vocab_projector.bias', 'vocab_transform.bias', 'vocab_layer_norm.bias', 'vocab_transform.weight']\n",
            "- This IS expected if you are initializing DistilBertForSequenceClassification from the checkpoint of a model trained on another task or with another architecture (e.g. initializing a BertForSequenceClassification model from a BertForPreTraining model).\n",
            "- This IS NOT expected if you are initializing DistilBertForSequenceClassification from the checkpoint of a model that you expect to be exactly identical (initializing a BertForSequenceClassification model from a BertForSequenceClassification model).\n",
            "Some weights of DistilBertForSequenceClassification were not initialized from the model checkpoint at distilbert-base-uncased and are newly initialized: ['pre_classifier.weight', 'pre_classifier.bias', 'classifier.bias', 'classifier.weight']\n",
            "You should probably TRAIN this model on a down-stream task to be able to use it for predictions and inference.\n",
            "Enter input timestep for LSTM model (1-64): 16\n",
            "Enter timestep method (Normal or Flow): Flow\n",
            "Looking in indexes: https://pypi.org/simple, https://us-python.pkg.dev/colab-wheels/public/simple/\n",
            "Requirement already satisfied: scapy in /usr/local/lib/python3.7/dist-packages (2.4.5)\n",
            "Enter value for model training learning rate: 0.0001\n",
            "Enter batch size for model training: 64\n",
            "Enter number of epochs to train model for: 5\n",
            "2022-08-22 23:27:54.126657: E tensorflow/stream_executor/cuda/cuda_driver.cc:271] failed call to cuInit: CUDA_ERROR_NO_DEVICE: no CUDA-capable device is detected\n",
            "Epoch 1/5\n",
            "7/7 [==============================] - 10s 198ms/step - loss: 0.6934\n",
            "Epoch 2/5\n",
            "7/7 [==============================] - 1s 197ms/step - loss: 0.6859\n",
            "Epoch 3/5\n",
            "7/7 [==============================] - 1s 198ms/step - loss: 0.6827\n",
            "Epoch 4/5\n",
            "7/7 [==============================] - 1s 210ms/step - loss: 0.6787\n",
            "Epoch 5/5\n",
            "7/7 [==============================] - 3s 360ms/step - loss: 0.6741\n",
            "\n",
            "\n",
            "2022-08-22 23:28:20.659277: W tensorflow/python/util/util.cc:368] Sets are not currently considered sequences, but this may change in the future, so consider avoiding using them.\n",
            "WARNING:absl:Found untraced functions such as lstm_cell_layer_call_fn, lstm_cell_layer_call_and_return_conditional_losses, lstm_cell_1_layer_call_fn, lstm_cell_1_layer_call_and_return_conditional_losses, lstm_cell_2_layer_call_fn while saving (showing 5 of 8). These functions will not be directly callable after loading.\n",
            "WARNING:absl:<keras.layers.recurrent.LSTMCell object at 0x7f2d0c22ec10> has the same name 'LSTMCell' as a built-in Keras object. Consider renaming <class 'keras.layers.recurrent.LSTMCell'> to avoid naming conflicts when loading with `tf.keras.models.load_model`. If renaming is not possible, pass the object in the `custom_objects` parameter of the load function.\n",
            "WARNING:absl:<keras.layers.recurrent.LSTMCell object at 0x7f2d0c32da10> has the same name 'LSTMCell' as a built-in Keras object. Consider renaming <class 'keras.layers.recurrent.LSTMCell'> to avoid naming conflicts when loading with `tf.keras.models.load_model`. If renaming is not possible, pass the object in the `custom_objects` parameter of the load function.\n",
            "WARNING:absl:<keras.layers.recurrent.LSTMCell object at 0x7f2d0b1ef110> has the same name 'LSTMCell' as a built-in Keras object. Consider renaming <class 'keras.layers.recurrent.LSTMCell'> to avoid naming conflicts when loading with `tf.keras.models.load_model`. If renaming is not possible, pass the object in the `custom_objects` parameter of the load function.\n",
            "WARNING:absl:<keras.layers.recurrent.LSTMCell object at 0x7f2d0b6c4490> has the same name 'LSTMCell' as a built-in Keras object. Consider renaming <class 'keras.layers.recurrent.LSTMCell'> to avoid naming conflicts when loading with `tf.keras.models.load_model`. If renaming is not possible, pass the object in the `custom_objects` parameter of the load function.\n",
            "\n",
            "\n",
            "Confusion Matrix: \n",
            "[[23 30]\n",
            " [14 33]]\n",
            "\n",
            "\n",
            "Classification Report: \n",
            "              precision    recall  f1-score   support\n",
            "\n",
            "           0       0.62      0.43      0.51        53\n",
            "           1       0.52      0.70      0.60        47\n",
            "\n",
            "    accuracy                           0.56       100\n",
            "   macro avg       0.57      0.57      0.56       100\n",
            "weighted avg       0.58      0.56      0.55       100\n",
            "\n"
          ]
        }
      ]
    },
    {
      "cell_type": "code",
      "source": [
        ""
      ],
      "metadata": {
        "id": "iYHTb6vzAQz6"
      },
      "execution_count": null,
      "outputs": []
    }
  ]
}