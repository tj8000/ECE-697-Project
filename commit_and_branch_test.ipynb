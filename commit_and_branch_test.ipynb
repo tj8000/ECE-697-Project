{
  "nbformat": 4,
  "nbformat_minor": 0,
  "metadata": {
    "colab": {
      "name": "commit_and_branch_test.ipynb",
      "provenance": [],
      "authorship_tag": "ABX9TyMRwZt4EFV9x87oopxVre15"
    },
    "kernelspec": {
      "name": "python3",
      "display_name": "Python 3"
    },
    "language_info": {
      "name": "python"
    }
  },
  "cells": [
    {
      "cell_type": "markdown",
      "source": [
        "#this is my colab commit and branch test file. Welcome!"
      ],
      "metadata": {
        "id": "RIpIaGI9QzxL"
      }
    },
    {
      "cell_type": "code",
      "execution_count": 2,
      "metadata": {
        "colab": {
          "base_uri": "https://localhost:8080/"
        },
        "id": "NMlKHYKAQxVo",
        "outputId": "3bd2829e-7442-43e8-9554-ced706cc31c7"
      },
      "outputs": [
        {
          "output_type": "stream",
          "name": "stdout",
          "text": [
            "hello!\n"
          ]
        }
      ],
      "source": [
        "print('hello!')"
      ]
    }
  ]
}