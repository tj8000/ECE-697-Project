{
  "nbformat": 4,
  "nbformat_minor": 0,
  "metadata": {
    "colab": {
      "name": "Scenario_4_Dataset_Creation.ipynb",
      "provenance": []
    },
    "kernelspec": {
      "name": "python3",
      "display_name": "Python 3"
    },
    "language_info": {
      "name": "python"
    }
  },
  "cells": [
    {
      "cell_type": "markdown",
      "source": [
        "\n",
        "This file is to show a sample of the code used for creating the scenario 4 dataset. The following code uses the scapy package to import and create pcap files. A reference to the scapy guide that was used is located at:\n",
        "\n",
        "https://scapy.readthedocs.io/en/latest/\n"
      ],
      "metadata": {
        "id": "UfI58qfoCz7Z"
      }
    },
    {
      "cell_type": "code",
      "execution_count": null,
      "metadata": {
        "colab": {
          "base_uri": "https://localhost:8080/"
        },
        "id": "u_q2vUXUE_oq",
        "outputId": "a087a6df-f307-4147-f90a-b30d075fdbd2"
      },
      "outputs": [
        {
          "output_type": "stream",
          "name": "stdout",
          "text": [
            "Looking in indexes: https://pypi.org/simple, https://us-python.pkg.dev/colab-wheels/public/simple/\n",
            "Collecting scapy\n",
            "  Downloading scapy-2.4.5.tar.gz (1.1 MB)\n",
            "\u001b[K     |████████████████████████████████| 1.1 MB 14.2 MB/s \n",
            "\u001b[?25hBuilding wheels for collected packages: scapy\n",
            "  Building wheel for scapy (setup.py) ... \u001b[?25l\u001b[?25hdone\n",
            "  Created wheel for scapy: filename=scapy-2.4.5-py2.py3-none-any.whl size=1261555 sha256=847a457e00b1e270256bc29cf451cce5f5683a6f24c087da7a4c4c9bbb7098aa\n",
            "  Stored in directory: /root/.cache/pip/wheels/b9/6e/c0/0157e466a5e02d3ff28fc7587dff329b4a967a23b3f9b11385\n",
            "Successfully built scapy\n",
            "Installing collected packages: scapy\n",
            "Successfully installed scapy-2.4.5\n"
          ]
        }
      ],
      "source": [
        "pip install scapy"
      ]
    },
    {
      "cell_type": "code",
      "source": [
        "import pandas as pd\n",
        "import numpy as np\n",
        "from scapy.all import *\n",
        "from scapy.layers.http import *"
      ],
      "metadata": {
        "id": "JCkCiiDQFTaS"
      },
      "execution_count": null,
      "outputs": []
    },
    {
      "cell_type": "code",
      "source": [
        "from google.colab import drive\n",
        "drive.mount('/content/drive')"
      ],
      "metadata": {
        "colab": {
          "base_uri": "https://localhost:8080/"
        },
        "id": "hzCma2zBFYkm",
        "outputId": "a24ad320-3abb-40c9-9406-5211be00e852"
      },
      "execution_count": null,
      "outputs": [
        {
          "output_type": "stream",
          "name": "stdout",
          "text": [
            "Mounted at /content/drive\n"
          ]
        }
      ]
    },
    {
      "cell_type": "code",
      "source": [
        "attack_list = ['Week1_Wednesday_Neptune', \n",
        "               'Week1_Wednesday_Smurf', \n",
        "               'Week1_Thursday_Pod', \n",
        "               'Week1_Friday_Teardrop', \n",
        "               'Week2_Wednesday_Land', \n",
        "               'Week2_Friday_Back', \n",
        "               'Week2_Friday_Syslog', \n",
        "               'Week3_Wednesday_Smurf', \n",
        "               'Week3_Friday_Land', \n",
        "               'Week4_Tuesday_Pod', \n",
        "               'Week4_Tuesday_Teardrop', \n",
        "               'Week4_Thursday_Syslog', \n",
        "               'Week5_Wednesday_Syslog', \n",
        "               'Week5_Thursday_Land', \n",
        "               'Week6_Monday_Neptune', \n",
        "               'Week6_Wednesday_Back', \n",
        "               'Week6_Thursday_Pod1']"
      ],
      "metadata": {
        "id": "q5ABJCLFFppd"
      },
      "execution_count": null,
      "outputs": []
    },
    {
      "cell_type": "code",
      "source": [
        "labels = []\n",
        "for attack in attack_list:\n",
        "  temp = pd.read_csv('/content/drive/MyDrive/ECE 697 Project/1. datasets/DARPA 1998/DARPA98_Attacks/Labels_Truncated/DARPA98_Training_'+attack+'_Attack_Labels.csv', header=None)\n",
        "  temp = np.array(temp).reshape(1, -1)\n",
        "  labels.append(temp)"
      ],
      "metadata": {
        "id": "qw72MxoxH1ff"
      },
      "execution_count": null,
      "outputs": []
    },
    {
      "cell_type": "code",
      "source": [
        "total_pkts = 0\n",
        "total_attack_pkts = 0\n",
        "for i in range(len(labels)):\n",
        "  total_pkts += np.shape(labels[i])[1]\n",
        "  total_attack_pkts += np.sum(labels[i])"
      ],
      "metadata": {
        "id": "4Ta0aLOSNTKK"
      },
      "execution_count": null,
      "outputs": []
    },
    {
      "cell_type": "code",
      "source": [
        "# number of benign packets in DARPA98 attack pcaps that need to be replaced with SUEE8 benign packet\n",
        "total_benign_pkts_to_replace = total_pkts - total_attack_pkts "
      ],
      "metadata": {
        "id": "k4nxjovcOwMw"
      },
      "execution_count": null,
      "outputs": []
    },
    {
      "cell_type": "code",
      "source": [
        "# number of SUEE8 benign packets to add to make final pcap contain 100000 packets\n",
        "total_benign_pkts_to_add = 100000 - total_benign_pkts_to_replace - total_attack_pkts"
      ],
      "metadata": {
        "id": "YcCTF7-2PJIU"
      },
      "execution_count": null,
      "outputs": []
    },
    {
      "cell_type": "code",
      "source": [
        "# total number of SUEE8 benign packets needed for final pcap\n",
        "total_benign_pkts_needed = total_benign_pkts_to_add + total_benign_pkts_to_replace "
      ],
      "metadata": {
        "id": "_KJYnrI3XzJq"
      },
      "execution_count": null,
      "outputs": []
    },
    {
      "cell_type": "code",
      "source": [
        "# randomize the number of benign packets that are inserted between attacks\n",
        "rand = np.random.random(size = len(labels) + 1)\n",
        "x = total_benign_pkts_to_add / sum(rand)\n",
        "rand = np.round(x*rand)\n",
        "rand = np.array(rand, dtype = int)"
      ],
      "metadata": {
        "id": "BxZd3j2PZUQ5"
      },
      "execution_count": null,
      "outputs": []
    },
    {
      "cell_type": "code",
      "source": [
        "# create new pcap and label files\n",
        "i = 0\n",
        "DARPA98_Attacks_SUEE8_Benign_Labels = []\n",
        "SUEE8_benign_pcap = PcapReader('/content/drive/MyDrive/ECE 697 Project/1. datasets/SUEE 17/SUEE Benign Traffic/SUEE8_Benign.pcap')\n",
        "for attack in attack_list:\n",
        "  for j in range(rand[i]):\n",
        "    benign_pkt = SUEE8_benign_pcap.next()\n",
        "    wrpcap('DARPA98_Attacks_SUEE8_Benign.pcap', benign_pkt, append=True)\n",
        "    DARPA98_Attacks_SUEE8_Benign_Labels.append(0)\n",
        "  DARPA98_attack_pcap = PcapReader('/content/drive/MyDrive/ECE 697 Project/1. datasets/DARPA 1998/DARPA98_Attacks/Attacks_Truncated/DARPA98_Training_'+attack+'_Attack.pcap')\n",
        "  for k in range(np.shape(labels[i])[1]):\n",
        "    if labels[i][0,k] == 1:\n",
        "      attack_pkt = DARPA98_attack_pcap.next()\n",
        "      wrpcap('DARPA98_Attacks_SUEE8_Benign.pcap', attack_pkt, append=True)\n",
        "      DARPA98_Attacks_SUEE8_Benign_Labels.append(1)\n",
        "    else:\n",
        "      attack_pkt = DARPA98_attack_pcap.next()\n",
        "      benign_pkt = SUEE8_benign_pcap.next()\n",
        "      wrpcap('DARPA98_Attacks_SUEE8_Benign.pcap', benign_pkt, append=True)\n",
        "      DARPA98_Attacks_SUEE8_Benign_Labels.append(0)\n",
        "  i += 1\n",
        "for j in range(rand[i]):\n",
        "  benign_pkt = SUEE8_benign_pcap.next()\n",
        "  wrpcap('DARPA98_Attacks_SUEE8_Benign.pcap', benign_pkt, append=True)\n",
        "  DARPA98_Attacks_SUEE8_Benign_Labels.append(0)\n",
        "pd.DataFrame(DARPA98_Attacks_SUEE8_Benign_Labels).to_csv('DARPA98_Attacks_SUEE8_Benign_Labels.csv', header=None, index=False)\n"
      ],
      "metadata": {
        "id": "OoLZFEv9aPY5"
      },
      "execution_count": null,
      "outputs": []
    }
  ]
}